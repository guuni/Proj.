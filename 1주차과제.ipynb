{
  "nbformat": 4,
  "nbformat_minor": 0,
  "metadata": {
    "colab": {
      "name": "1주차과제",
      "provenance": [],
      "authorship_tag": "ABX9TyN66rzFkoNc/gTjv80HNtFs",
      "include_colab_link": true
    },
    "kernelspec": {
      "name": "python3",
      "display_name": "Python 3"
    }
  },
  "cells": [
    {
      "cell_type": "markdown",
      "metadata": {
        "id": "view-in-github",
        "colab_type": "text"
      },
      "source": [
        "<a href=\"https://colab.research.google.com/github/guuni/Project/blob/master/1%EC%A3%BC%EC%B0%A8%EA%B3%BC%EC%A0%9C.ipynb\" target=\"_parent\"><img src=\"https://colab.research.google.com/assets/colab-badge.svg\" alt=\"Open In Colab\"/></a>"
      ]
    },
    {
      "cell_type": "markdown",
      "metadata": {
        "id": "NNOWAHmJIfCj",
        "colab_type": "text"
      },
      "source": [
        "인공지능 기술들을 사용하는 제품 및 서비스들\n",
        "=============\n",
        "**1. 언어**\n",
        "\n",
        "* 플리토 (집단 번역 플랫폼) - 링크 : [flitto](https://www.flitto.com/)\n",
        "* 말랑말랑 지니톡 (통역/번역 app) - 다운로드 링크 : [GenieTalk](https://play.google.com/store/apps/details?id=com.hancom.interfree.genietalk&hl=ko)  \n",
        "\n",
        "\n",
        "\n",
        "**2. 음성**\n",
        "\n",
        "\n",
        "* 셀비 메디보이스 (의료녹취앱) - 관련 기사 : [셀바스 AI, 한림대동탄성심병원 수술실에 ‘셀비 메디보이스’ 상용화](https://biz.chosun.com/site/data/html_dir/2019/01/21/2019012101162.html)\n",
        "* 자비스 (영화 'Avengers', Iron Man의 인공지능 비서) - 빠른시일 내에 가능해지길\n",
        "\n",
        "![Jarvis](https://pbs.twimg.com/profile_images/3599248275/a3b9f355f143c508261f54966284eb7e.jpeg)   \n",
        "\n",
        "\n",
        "**3. 이미지**\n",
        "\n",
        "* 텐센트\n",
        " + 선투 (얼굴 인식 알고리즘)\n",
        " + 후이옌 (이미지 문자 인식 서비스) 등\n",
        "\n",
        "-관련기사링크 : [中 텐센트 \"AI로 하루 30억 장 이미지 처리\"](https://www.zdnet.co.kr/view/?no=20200529072930)\n",
        "\n",
        "**4. 자율주행**\n",
        "*  Emesent사의 드론스캐너 Hovermap (자율주행 드론) \n",
        "\n",
        "\n",
        "  ![Hovermap](https://www.amsj.com.au/wp-content/uploads/2019/03/Drones-in-mining-300x168.png)\n",
        "\n",
        "> (이미지출처: google image)\n",
        "\n",
        "\n",
        "\n",
        "\n",
        "\n",
        "\n",
        "\n",
        "\n"
      ]
    }
  ]
}